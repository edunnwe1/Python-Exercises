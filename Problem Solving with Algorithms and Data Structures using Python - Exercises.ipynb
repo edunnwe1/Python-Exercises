{
 "cells": [
  {
   "cell_type": "markdown",
   "metadata": {},
   "source": [
    "## Section 1"
   ]
  },
  {
   "cell_type": "markdown",
   "metadata": {},
   "source": [
    "#### Fractions"
   ]
  },
  {
   "cell_type": "code",
   "execution_count": null,
   "metadata": {},
   "outputs": [],
   "source": [
    "import numpy as np"
   ]
  },
  {
   "cell_type": "code",
   "execution_count": null,
   "metadata": {},
   "outputs": [],
   "source": [
    "def gcd(m,n):\n",
    "    while m%n != 0:\n",
    "        oldm = m\n",
    "        oldn = n\n",
    "        m = oldn\n",
    "        n = oldm%oldn\n",
    "    return n"
   ]
  },
  {
   "cell_type": "code",
   "execution_count": null,
   "metadata": {},
   "outputs": [],
   "source": [
    "class Fraction:\n",
    "    def __init__(self,top,bottom):\n",
    "        if type(top) != int or type(bottom) != int:\n",
    "            raise RuntimeError('Numerator and denominator must be integers')\n",
    "            \n",
    "        if bottom < 0:\n",
    "            top = -1*top\n",
    "            bottom = abs(bottom)\n",
    "            \n",
    "        common = gcd(top,bottom)\n",
    "        self.num = top//common\n",
    "        self.den = bottom//common\n",
    "    \n",
    "    def __str__(self):\n",
    "        return str(self.num) + \"/\" + str(self.den)\n",
    "    \n",
    "    def __show__(self):\n",
    "        print(self.num,\"/\",self.den)\n",
    "        \n",
    "    def __add__(self, otherfraction):\n",
    "        newnum = self.num*otherfraction.den + otherfraction.num*self.den\n",
    "        newden = self.den*otherfraction.den\n",
    "        return(Fraction(newnum, newden))\n",
    "    \n",
    "    def __eq__(self, otherfraction):\n",
    "        return self.num*otherfraction.den == otherfraction.num*self.den\n",
    "    \n",
    "    def __getNum__(self):\n",
    "        return self.num\n",
    "    \n",
    "    def __getDen__(self):\n",
    "        return self.den\n",
    "        \n",
    "    def __sub__(self, otherfraction):\n",
    "        newnum = self.num*otherfraction.den - otherfraction.num*self.den\n",
    "        newden = self.den*otherfraction.den\n",
    "        return(Fraction(newnum,newden))\n",
    "    \n",
    "    def __mul__(self, otherfraction):\n",
    "        newnum = self.num*otherfraction.num\n",
    "        newden = self.den*otherfraction.den\n",
    "        return(Fraction(newnum,newden))\n",
    "    \n",
    "    def __truediv__(self,otherfraction):\n",
    "        newnum = self.num*otherfraction.den\n",
    "        newden = self.den*otherfraction.num\n",
    "        return(Fraction(newnum,newden))\n",
    "        \n",
    "    def __gt__(self, otherfraction):\n",
    "        return (self.num*otherfraction.den > self.den*otherfraction.num)\n",
    "    \n",
    "    def __ge__(self, otherfraction):\n",
    "        return (self.num*otherfraction.den >= self.den*otherfraction.num) \n",
    "    \n",
    "    def __lt__(self, otherfraction):\n",
    "        return (self.num*otherfraction.den < self.den*otherfraction.num)\n",
    "    \n",
    "    def __le__(self, otherfraction):\n",
    "        return (self.num*otherfraction.den <= self.den*otherfraction.num)\n",
    "    \n",
    "    def __ne__(self, otherfraction):\n",
    "        return (self.num*otherfraction.den != self.den*otherfraction.num)\n",
    "    \n",
    "    "
   ]
  },
  {
   "cell_type": "code",
   "execution_count": null,
   "metadata": {},
   "outputs": [],
   "source": [
    "## Unit tests \n",
    "\n",
    "testFrac1 = Fraction(3,5)\n",
    "testFrac2 = Fraction(9,15)\n",
    "testFrac3 = Fraction(1,5)\n",
    "\n",
    "assert str(testFrac2) == '3/5'\n",
    "assert testFrac1==testFrac2\n",
    "assert testFrac1+testFrac3 == Fraction(4,5)\n",
    "assert testFrac1.num==3\n",
    "assert(testFrac1-testFrac3)==Fraction(2,5)\n",
    "assert(testFrac1*testFrac3)==Fraction(3,25)\n",
    "assert(testFrac1/testFrac3)==Fraction(3,1)\n",
    "assert(testFrac1 > testFrac3)\n",
    "assert(testFrac1 >= testFrac3)\n",
    "assert (testFrac3 < testFrac1)\n",
    "assert (testFrac3 <= testFrac1)\n",
    "assert (testFrac3 != testFrac1)\n",
    "\n",
    "# Fraction(1.4,3)"
   ]
  },
  {
   "cell_type": "markdown",
   "metadata": {},
   "source": [
    "#### Logic gates"
   ]
  },
  {
   "cell_type": "code",
   "execution_count": null,
   "metadata": {},
   "outputs": [],
   "source": [
    "class LogicGate:\n",
    "    def __init__(self,n):\n",
    "        self.label = n\n",
    "        self.output = None\n",
    "\n",
    "    def getLabel(self):\n",
    "        return self.label\n",
    "\n",
    "    def getOutput(self):\n",
    "        self.output = self.performGateLogic()\n",
    "        return self.output"
   ]
  },
  {
   "cell_type": "code",
   "execution_count": null,
   "metadata": {},
   "outputs": [],
   "source": [
    "class BinaryGate(LogicGate):\n",
    "\n",
    "    def __init__(self,n):\n",
    "        LogicGate.__init__(self,n)\n",
    "\n",
    "        self.pinA = None\n",
    "        self.pinB = None\n",
    "\n",
    "    def getPinA(self):\n",
    "        if self.pinA == None:\n",
    "            return int(input(\"Enter Pin A input for gate \"+self.getLabel()+\"-->\"))\n",
    "        else:\n",
    "            return self.pinA.getFrom().getOutput()\n",
    "\n",
    "    def getPinB(self):\n",
    "        if self.pinB == None:\n",
    "            return int(input(\"Enter Pin B input for gate \"+self.getLabel()+\"-->\"))\n",
    "        else:\n",
    "            return self.pinB.getFrom().getOutput() # self.pinB.getOutput()\n",
    "    \n",
    "    def setNextPin(self,source):\n",
    "        if self.pinA == None:\n",
    "            self.pinA = source #source.getFrom()\n",
    "        else:\n",
    "            if self.pinB == None:\n",
    "                self.pinB = source #source.getFrom()\n",
    "            else:\n",
    "               raise RuntimeError(\"Error: NO EMPTY PINS\")"
   ]
  },
  {
   "cell_type": "code",
   "execution_count": null,
   "metadata": {},
   "outputs": [],
   "source": [
    "class Connector:\n",
    "\n",
    "    def __init__(self, fgate, tgate):\n",
    "        self.fromgate = fgate\n",
    "        self.togate = tgate\n",
    "\n",
    "        tgate.setNextPin(self)\n",
    "\n",
    "    def getFrom(self):\n",
    "        return self.fromgate\n",
    "\n",
    "    def getTo(self):\n",
    "        return self.togate"
   ]
  },
  {
   "cell_type": "code",
   "execution_count": null,
   "metadata": {},
   "outputs": [],
   "source": [
    "class UnaryGate(LogicGate):\n",
    "\n",
    "    def __init__(self,n):\n",
    "        LogicGate.__init__(self,n)\n",
    "\n",
    "        self.pin = None\n",
    "\n",
    "    def getPin(self):\n",
    "        if self.pin == None:\n",
    "            return int(input(\"Enter Pin input for gate \"+self.getLabel()+\"-->\"))\n",
    "        else:\n",
    "            return self.pin.getFrom().getOutput()\n",
    "\n",
    "    def setNextPin(self,source):\n",
    "        if self.pin == None:\n",
    "            self.pin = source\n",
    "        else:\n",
    "            print(\"Cannot Connect: NO EMPTY PINS on this gate\")"
   ]
  },
  {
   "cell_type": "code",
   "execution_count": null,
   "metadata": {},
   "outputs": [],
   "source": [
    "class AndGate(BinaryGate):\n",
    "\n",
    "    def __init__(self,n):\n",
    "        BinaryGate.__init__(self,n)\n",
    "\n",
    "    def performGateLogic(self):\n",
    "\n",
    "        a = self.getPinA()\n",
    "        b = self.getPinB()\n",
    "        if a==1 and b==1:\n",
    "            return 1\n",
    "        else:\n",
    "            return 0"
   ]
  },
  {
   "cell_type": "code",
   "execution_count": null,
   "metadata": {},
   "outputs": [],
   "source": [
    "class OrGate(BinaryGate):\n",
    "\n",
    "    def __init__(self,n):\n",
    "        BinaryGate.__init__(self,n)\n",
    "\n",
    "    def performGateLogic(self):\n",
    "\n",
    "        a = self.getPinA()\n",
    "        b = self.getPinB()\n",
    "        if a ==1 or b==1:\n",
    "            return 1\n",
    "        else:\n",
    "            return 0"
   ]
  },
  {
   "cell_type": "code",
   "execution_count": null,
   "metadata": {},
   "outputs": [],
   "source": [
    "class NOrGate(BinaryGate):\n",
    "\n",
    "    def __init__(self,n):\n",
    "        AndGate.__init__(self,n)\n",
    "\n",
    "    def performGateLogic(self):\n",
    "        return not OrGate.performGateLogic(self)\n",
    "\n",
    "#         a = self.getPinA()\n",
    "#         b = self.getPinB()\n",
    "#         if a ==0 and b==0:\n",
    "#             return 1\n",
    "#         else:\n",
    "#             return 0"
   ]
  },
  {
   "cell_type": "code",
   "execution_count": null,
   "metadata": {},
   "outputs": [],
   "source": [
    "g1 = NOrGate(\"G1\")\n",
    "g1.getOutput()"
   ]
  },
  {
   "cell_type": "code",
   "execution_count": null,
   "metadata": {},
   "outputs": [],
   "source": [
    "class NAndGate(BinaryGate):\n",
    "    def __init__(self,n):\n",
    "        BinaryGate.__init__(self,n)\n",
    "    \n",
    "    def performGateLogic(self):\n",
    "        return not AndGate.performGateLogic(self)"
   ]
  },
  {
   "cell_type": "code",
   "execution_count": null,
   "metadata": {},
   "outputs": [],
   "source": [
    "g1 = NAndGate(\"G1\")\n",
    "g1.getOutput()"
   ]
  },
  {
   "cell_type": "code",
   "execution_count": null,
   "metadata": {},
   "outputs": [],
   "source": [
    "class NotGate(UnaryGate):\n",
    "\n",
    "    def __init__(self,n):\n",
    "        UnaryGate.__init__(self,n)\n",
    "\n",
    "    def performGateLogic(self):\n",
    "        if self.getPin():\n",
    "            return 0\n",
    "        else:\n",
    "            return 1"
   ]
  },
  {
   "cell_type": "code",
   "execution_count": null,
   "metadata": {},
   "outputs": [],
   "source": [
    "def main():\n",
    "   g1 = AndGate(\"G1\")\n",
    "   g2 = AndGate(\"G2\")\n",
    "   g3 = OrGate(\"G3\")\n",
    "   g4 = NotGate(\"G4\")\n",
    "   c1 = Connector(g1,g3)\n",
    "   c2 = Connector(g2,g3)\n",
    "   c3 = Connector(g3,g4)\n",
    "   print(g4.getOutput())\n",
    "\n",
    "main()"
   ]
  },
  {
   "cell_type": "markdown",
   "metadata": {},
   "source": [
    "## Section 2"
   ]
  },
  {
   "cell_type": "markdown",
   "metadata": {},
   "source": [
    "#### A proper class: Multi-sided die"
   ]
  },
  {
   "cell_type": "markdown",
   "metadata": {},
   "source": [
    "Proper classes should have:\n",
    "- A doc string\n",
    "- A __ str __ and __ repr __ method (note: double underscores indicate private variables)\n",
    "- A __ lt __ and __ eq __ method\n",
    "- Thoughtful access control\n",
    "\n",
    "If the class is a container for other classes consider:\n",
    "- Being able to find out how many things are in the container via len\n",
    "- Ability to iterate over items in the container\n",
    "- Granting users the ability to acces items in the container via [] "
   ]
  },
  {
   "cell_type": "code",
   "execution_count": null,
   "metadata": {},
   "outputs": [],
   "source": [
    "import random\n",
    "\n",
    "class MSDie:\n",
    "    \"\"\"\n",
    "    Multi-sided die\n",
    "\n",
    "    Instance Variables:\n",
    "        current_value: what's face up on the die\n",
    "        num_sides: how many sides the die has\n",
    "        \n",
    "    Instance Methods:\n",
    "        roll: method to get the current value\n",
    "\n",
    "    \"\"\"\n",
    "\n",
    "    def __init__(self, num_sides):\n",
    "        self.num_sides = num_sides\n",
    "        self.current_value = self.roll()\n",
    "\n",
    "    def roll(self):\n",
    "        self.current_value = random.randrange(1,self.num_sides+1)\n",
    "        return self.current_value\n",
    "    \n",
    "    def __str__(self): \n",
    "        return str(self.current_value)\n",
    "    \n",
    "    def __repr__(self):\n",
    "        return \"MSDie({}) : {}\".format(self.num_sides, self.current_value)\n",
    "    \n",
    "    "
   ]
  },
  {
   "cell_type": "code",
   "execution_count": null,
   "metadata": {},
   "outputs": [],
   "source": [
    "my_die = MSDie(6)\n",
    "for i in range(5):\n",
    "    print(my_die)\n",
    "    my_die.roll()\n",
    "\n",
    "d_list = [MSDie(6), MSDie(20)]\n",
    "print(d_list)"
   ]
  },
  {
   "cell_type": "markdown",
   "metadata": {},
   "source": [
    "## Section 3: Algorithm analysis"
   ]
  },
  {
   "cell_type": "code",
   "execution_count": null,
   "metadata": {},
   "outputs": [],
   "source": [
    "#Pair Sum - from Gautham\n",
    "\n",
    "# Objective: write a function that takes an array of integers and a target. If two integers\n",
    "# at different positions add up to the target, then the function returns True, else False\n",
    "\n",
    "# Example: arr = [2,3,1,5], target = 4 --> True\n",
    "\n",
    "def pair_sum(arr, target):\n",
    "  meets_target = False\n",
    "  for idx,i in enumerate(arr):\n",
    "    if i < target:\n",
    "      for j in arr[idx+1:]:\n",
    "        if j < target:\n",
    "          if i+j == target:\n",
    "            meets_target = True\n",
    "            break\n",
    "  return meets_target\n",
    "\n",
    "def pair_sum2(arr, target):\n",
    "  meets_target = False\n",
    "  arr_dict = dict() # referencing a key in a dict is O(1)\n",
    "  for i in arr:\n",
    "    arr_dict[i] = True\n",
    "    if target - i in arr_dict:\n",
    "      meets_target = True\n",
    "      break\n",
    "  return meets_target\n",
    "\n",
    " def pair_sum3(arr, target):\n",
    "  meets_target = False\n",
    "  arr_set = set() # referencing an element in a set is O(1)\n",
    "  for i in arr:\n",
    "    if target - i in arr_set:\n",
    "      meets_target = True\n",
    "      break\n",
    "    arr_set.add(i) # better to do this than to convert to a set from the start because you only have unique items in sets \n",
    "  return meets_target "
   ]
  },
  {
   "cell_type": "code",
   "execution_count": null,
   "metadata": {},
   "outputs": [],
   "source": [
    "# Anagram checker, version 1\n",
    "\n",
    "def anagramSolution1(s1,s2):\n",
    "    stillOK = True\n",
    "    if len(s1) != len(s2):\n",
    "        stillOK = False\n",
    "\n",
    "    alist = list(s2) # convert to a list because strings are not mutable\n",
    "    pos1 = 0\n",
    "\n",
    "    # for each character in s1\n",
    "    while pos1 < len(s1) and stillOK:\n",
    "        pos2 = 0\n",
    "        found = False\n",
    "        # for each character in s2\n",
    "        while pos2 < len(alist) and not found:\n",
    "            if s1[pos1] == alist[pos2]:\n",
    "                found = True\n",
    "            else:\n",
    "                pos2 = pos2 + 1\n",
    "\n",
    "        if found:\n",
    "            alist[pos2] = None # don't check this character again \n",
    "        else:\n",
    "            stillOK = False\n",
    "\n",
    "        pos1 = pos1 + 1\n",
    "\n",
    "    return stillOK\n",
    "\n",
    "print(anagramSolution1('heart','earth'))"
   ]
  },
  {
   "cell_type": "code",
   "execution_count": null,
   "metadata": {},
   "outputs": [],
   "source": [
    "def anagramSolution2(s1,s2):\n",
    "    # sort and compare\n",
    "    alist1 = list(s1)\n",
    "    alist2 = list(s2)\n",
    "    \n",
    "    alist1.sort() # sorting is either O(n) or O(n^2)!!\n",
    "    alist2.sort() # sorting is either O(n) or O(n^2)!!\n",
    "    \n",
    "    matches = True\n",
    "    \n",
    "    if len(alist1) == len(alist2):\n",
    "        for i in range(len(alist1)):\n",
    "            if alist1[i] != alist2[i]:\n",
    "                matches = False\n",
    "                break\n",
    "    else:\n",
    "        matches = False\n",
    "    \n",
    "    return matches\n",
    "\n",
    "print(anagramSolution2('heart','earth'))"
   ]
  },
  {
   "cell_type": "code",
   "execution_count": null,
   "metadata": {},
   "outputs": [],
   "source": [
    "def anagramSolution3(s1,s2):\n",
    "    # make dictionaries of each\n",
    "    matches = False\n",
    "    # get unique letters\n",
    "    set1 = set(s1)\n",
    "    set2 = set(s2)\n",
    "    # initialize dictionaries with unique letters as keys\n",
    "    adict1 = {**dict.fromkeys(set1, 0)}\n",
    "    adict2 = {**dict.fromkeys(set2, 0)}\n",
    "    \n",
    "    if len(s1) == len(s2) and set1 == set2:\n",
    "        for i in s1:\n",
    "            adict1[i] = adict1[i]+1 #add a count every time we encounter that letter \n",
    "        for j in s2:\n",
    "            adict2[j] = adict2[j]+1 #add a count every time we encounter that letter \n",
    "        if adict1 == adict2:\n",
    "            matches = True\n",
    "    \n",
    "    return matches\n",
    "\n",
    "print(anagramSolution3('heart','earth'))"
   ]
  },
  {
   "cell_type": "markdown",
   "metadata": {},
   "source": [
    "### Lists"
   ]
  },
  {
   "cell_type": "code",
   "execution_count": 2,
   "metadata": {},
   "outputs": [],
   "source": [
    "import timeit\n",
    "from timeit import Timer"
   ]
  },
  {
   "cell_type": "code",
   "execution_count": 3,
   "metadata": {},
   "outputs": [
    {
     "name": "stdout",
     "output_type": "stream",
     "text": [
      "concat  1.2211434939999997 milliseconds\n",
      "append  0.15677288499999875 milliseconds\n",
      "comprehension  0.04576222900000104 milliseconds\n",
      "list range  0.01942116799999738 milliseconds\n"
     ]
    }
   ],
   "source": [
    "# test between different ways of growing a list\n",
    "def test1():\n",
    "    l = []\n",
    "    for i in range(1000):\n",
    "        l = l + [i]\n",
    "\n",
    "def test2():\n",
    "    l = []\n",
    "    for i in range(1000):\n",
    "        l.append(i)\n",
    "\n",
    "def test3():\n",
    "    l = [i for i in range(1000)]\n",
    "\n",
    "def test4():\n",
    "    l = list(range(1000))\n",
    "    \n",
    "    \n",
    "t1 = Timer(\"test1()\", \"from __main__ import test1\") #imports the function from the main namespace into the Timer space\n",
    "print(\"concat \",t1.timeit(number=1000), \"milliseconds\")\n",
    "t2 = Timer(\"test2()\", \"from __main__ import test2\")\n",
    "print(\"append \",t2.timeit(number=1000), \"milliseconds\")\n",
    "t3 = Timer(\"test3()\", \"from __main__ import test3\")\n",
    "print(\"comprehension \",t3.timeit(number=1000), \"milliseconds\")\n",
    "t4 = Timer(\"test4()\", \"from __main__ import test4\")\n",
    "print(\"list range \",t4.timeit(number=1000), \"milliseconds\")"
   ]
  },
  {
   "cell_type": "markdown",
   "metadata": {},
   "source": [
    "### Dictionaries vs Lists"
   ]
  },
  {
   "cell_type": "code",
   "execution_count": 15,
   "metadata": {},
   "outputs": [
    {
     "name": "stdout",
     "output_type": "stream",
     "text": [
      "10000,     0.113,     0.001\n",
      "30000,     0.204,     0.001\n",
      "50000,     0.347,     0.001\n",
      "70000,     0.476,     0.001\n",
      "90000,     0.620,     0.001\n"
     ]
    }
   ],
   "source": [
    "import timeit\n",
    "import random\n",
    "\n",
    "for i in range(10000,100001,20000):\n",
    "    t = timeit.Timer(\"random.randrange(%d) in x\"%i,\n",
    "                     \"from __main__ import random,x\")\n",
    "    x = list(range(i))\n",
    "    lst_time = t.timeit(number=1000)\n",
    "    x = {j:None for j in range(i)}\n",
    "    d_time = t.timeit(number=1000)\n",
    "    print(\"%d,%10.3f,%10.3f\" % (i, lst_time, d_time))"
   ]
  },
  {
   "cell_type": "code",
   "execution_count": null,
   "metadata": {},
   "outputs": [],
   "source": []
  }
 ],
 "metadata": {
  "kernelspec": {
   "display_name": "Python 3",
   "language": "python",
   "name": "python3"
  },
  "language_info": {
   "codemirror_mode": {
    "name": "ipython",
    "version": 3
   },
   "file_extension": ".py",
   "mimetype": "text/x-python",
   "name": "python",
   "nbconvert_exporter": "python",
   "pygments_lexer": "ipython3",
   "version": "3.7.9"
  }
 },
 "nbformat": 4,
 "nbformat_minor": 4
}
